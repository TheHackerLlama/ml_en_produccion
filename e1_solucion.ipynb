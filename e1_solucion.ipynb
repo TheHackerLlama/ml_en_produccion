{
  "nbformat": 4,
  "nbformat_minor": 0,
  "metadata": {
    "kernelspec": {
      "display_name": "Python 3",
      "language": "python",
      "name": "python3"
    },
    "language_info": {
      "codemirror_mode": {
        "name": "ipython",
        "version": 3
      },
      "file_extension": ".py",
      "mimetype": "text/x-python",
      "name": "python",
      "nbconvert_exporter": "python",
      "pygments_lexer": "ipython3",
      "version": "3.6.0"
    },
    "colab": {
      "name": "Copy of First_try.ipynb",
      "provenance": [],
      "collapsed_sections": [],
      "toc_visible": true
    }
  },
  "cells": [
    {
      "cell_type": "markdown",
      "metadata": {
        "id": "PEUEq8qKkkQG",
        "colab_type": "text"
      },
      "source": [
        "# Ejercicio 1\n",
        "\n",
        "En este ejercicio el objetivo es tener nuestra primera versión de un clasificador de imágenes. Particularmente, el objetivo es distinguir si una foto es de un hot-dog o no. Es necesario tener instalado\n",
        "\n",
        "- NumPy.\n",
        "- OpenCV.\n",
        "\n",
        "Para no tener que instalar todo localmente y tener problemas de compatibilidad, se puede utilizar gratuitamente Google Colab. Esto nos da disponibilidad de recursos computacionales y un ambiente con muchas librerías ya instaladas.\n",
        "\n",
        "## Conseguir dataset\n",
        "\n",
        "La siguiente celda se encarga de importar algunas librerías que usaremos en el cuaderno. \n",
        "  - OpenCV es una librería de visión por computadora. Tiene diferentes algoritmos que permiten trabajar con imágenes, así como aplicar diferentes técnicas de visión por computadora.\n",
        "  - NumPy es una librería de Python que permite trabajar con matrices de gran tamaño de manera eficiente."
      ]
    },
    {
      "cell_type": "code",
      "metadata": {
        "id": "j8Wze9eVnnzk",
        "colab_type": "code",
        "colab": {}
      },
      "source": [
        "import glob\n",
        "import  cv2\n",
        "import numpy as np"
      ],
      "execution_count": 0,
      "outputs": []
    },
    {
      "cell_type": "markdown",
      "metadata": {
        "id": "II9vjOzyigZw",
        "colab_type": "text"
      },
      "source": [
        "Colab, el ambiente que estaremos utilizando, no sólo tiene las herramientas habituales de cuadernos de Python (archivos .ipynb). Entre sus ventajas, viene con la capacidad de poder utilizar `pip install` para instalar librerías adicionales a las que ya vienen en su ambiente. Ejecuta la siguiente celda para instalar la librería google_images_download, la cuál permite descargar imágenes de Google Image Search."
      ]
    },
    {
      "cell_type": "code",
      "metadata": {
        "id": "jKn8AUqsni5z",
        "colab_type": "code",
        "outputId": "e0014ce7-8529-4775-8e66-01167fdfcdae",
        "colab": {
          "base_uri": "https://localhost:8080/",
          "height": 258
        }
      },
      "source": [
        "!pip install google_images_download"
      ],
      "execution_count": 0,
      "outputs": [
        {
          "output_type": "stream",
          "text": [
            "Collecting google_images_download\n",
            "  Downloading https://files.pythonhosted.org/packages/18/ed/0319d30c48f3653802da8e6dcfefcea6370157d10d566ef6807cceb5ec4d/google_images_download-2.8.0.tar.gz\n",
            "Collecting selenium (from google_images_download)\n",
            "\u001b[?25l  Downloading https://files.pythonhosted.org/packages/80/d6/4294f0b4bce4de0abf13e17190289f9d0613b0a44e5dd6a7f5ca98459853/selenium-3.141.0-py2.py3-none-any.whl (904kB)\n",
            "\u001b[K     |████████████████████████████████| 911kB 7.0MB/s \n",
            "\u001b[?25hRequirement already satisfied: urllib3 in /usr/local/lib/python3.6/dist-packages (from selenium->google_images_download) (1.24.3)\n",
            "Building wheels for collected packages: google-images-download\n",
            "  Building wheel for google-images-download (setup.py) ... \u001b[?25l\u001b[?25hdone\n",
            "  Created wheel for google-images-download: filename=google_images_download-2.8.0-py2.py3-none-any.whl size=14550 sha256=9616149c7901752f5d91416db7317252e0f0adc0ce0442332eb247d08f84c61e\n",
            "  Stored in directory: /root/.cache/pip/wheels/1f/28/ad/f56e7061e1d2a9a1affe2f9c649c2570cb9198dd24ede0bbab\n",
            "Successfully built google-images-download\n",
            "Installing collected packages: selenium, google-images-download\n",
            "Successfully installed google-images-download-2.8.0 selenium-3.141.0\n"
          ],
          "name": "stdout"
        }
      ]
    },
    {
      "cell_type": "markdown",
      "metadata": {
        "id": "S8WJOHmOi0Zk",
        "colab_type": "text"
      },
      "source": [
        "**Ejercicio 1**. En la siguiente celda, implementa código para descargar imágenes de hamburguesas y de hot dogs. El objetivo es descargarlas en dos carpetas diferentes. La estructura del output debe ser:\n",
        "\n",
        "```\n",
        "- downloads\n",
        "-- hamburguer\n",
        "--- foto1.jpg\n",
        "--- ...\n",
        "-- hot-dog\n",
        "--- foto1.jpg\n",
        "--- ...\n",
        "```\n",
        "\n",
        "Intenta descargar por lo menos 90 fotos. En el panel de la izquierda, puedes revisar las fotos descargadas en la pestaña llamada \"Files\"."
      ]
    },
    {
      "cell_type": "code",
      "metadata": {
        "id": "BP6cLPAOgjlO",
        "colab_type": "code",
        "outputId": "ee0a5566-3ded-48ea-ec6f-32c70860dda2",
        "colab": {
          "base_uri": "https://localhost:8080/",
          "height": 595
        }
      },
      "source": [
        "from google_images_download import google_images_download \n",
        "response = google_images_download.googleimagesdownload()\n",
        "\n",
        "arguments = {\"keywords\":\"hot-dog\",\"limit\":10,\"o\":\"hot-dog\"} \n",
        "paths = response.download(arguments)\n",
        "\n",
        "arguments = {\"keywords\":\"hamburger\",\"limit\":10,\"o\":\"burger\"} \n",
        "paths = response.download(arguments)"
      ],
      "execution_count": 0,
      "outputs": [
        {
          "output_type": "stream",
          "text": [
            "\n",
            "Item no.: 1 --> Item name = hot-dog\n",
            "Evaluating...\n",
            "Starting Download...\n",
            "Completed Image ====> 1.1200px-Hotdog_-_Evan_Swigart.jpg\n",
            "Completed Image ====> 2.Basic-Hot-Dogs2-600x500.jpg\n",
            "Completed Image ====> 3.giada-hot-dog-today-tease-171013_cc8ea08d065ebe92133af1c5cd1c868e.jpg\n",
            "Completed Image ====> 4.Hero_Dog_0.png\n",
            "Completed Image ====> 5.52394_3000x2000.jpg\n",
            "Completed Image ====> 6.Seattle_Dog.jpg\n",
            "Completed Image ====> 7.best-hot-dog-fp.jpg\n",
            "Completed Image ====> 8.hotdog_0.png\n",
            "Completed Image ====> 9.hotdog-royalty-free-image-185123377-1562609410.jpg\n",
            "Completed Image ====> 10.1535214434384.jpeg\n",
            "\n",
            "Errors: 0\n",
            "\n",
            "\n",
            "Item no.: 1 --> Item name = hamburger\n",
            "Evaluating...\n",
            "Starting Download...\n",
            "Completed Image ====> 1.RedDot_Burger.jpg\n",
            "Completed Image ====> 2.recipebest-hamburger.1024x1024.jpg\n",
            "Completed Image ====> 3.20190725-delish-air-fryer-burger-ehg-vertical-2-1565299632.png\n",
            "Completed Image ====> 4.1558017418187.jpeg\n",
            "Completed Image ====> 5.4589_4k.jpg\n",
            "Completed Image ====> 6.topimage-classic-hamburger-2019m04-800x534.jpg\n",
            "Completed Image ====> 7.the-ultimate-hamburger.jpg\n",
            "Completed Image ====> 8.air-fryer-burger.jpg\n",
            "Completed Image ====> 9.featured-great-american-hamburger-1024x640.jpg\n",
            "Completed Image ====> 10.165384.jpg\n",
            "\n",
            "Errors: 0\n",
            "\n"
          ],
          "name": "stdout"
        }
      ]
    },
    {
      "cell_type": "code",
      "metadata": {
        "id": "zM4iBWjEkkQJ",
        "colab_type": "code",
        "outputId": "3a469d19-fcd7-451a-9acf-f592c6db63e1",
        "colab": {
          "base_uri": "https://localhost:8080/",
          "height": 51
        }
      },
      "source": [
        "hamburger_paths = glob.glob(\"downloads/hamburger/*\")\n",
        "hot_dog_paths = glob.glob(\"downloads/hot-dog/*\")\n",
        "\n",
        "print('Imágenes de hamburguesas: ', len(hamburger_paths))\n",
        "print('Imágenes de hot-dogs: ', len(hot_dog_paths))"
      ],
      "execution_count": 0,
      "outputs": [
        {
          "output_type": "stream",
          "text": [
            "Imágenes de hamburguesas:  10\n",
            "Imágenes de hot-dogs:  93\n"
          ],
          "name": "stdout"
        }
      ]
    },
    {
      "cell_type": "markdown",
      "metadata": {
        "id": "P6Aly3qkkkQZ",
        "colab_type": "text"
      },
      "source": [
        "# Flattening y agregando label"
      ]
    },
    {
      "cell_type": "code",
      "metadata": {
        "id": "qdxS-YHtkkQa",
        "colab_type": "code",
        "colab": {}
      },
      "source": [
        "def flatten(imagePath, label):\n",
        "    data = np.array([])\n",
        "    for i in range(len(imagePath)):\n",
        "        resized = cv2.resize(cv2.imread(imagePath[i]), dsize=(64, 64), interpolation=cv2.INTER_CUBIC)\n",
        "    \n",
        "        data = np.append(data, np.append(resized, [label]))\n",
        "    pixels = data.flatten().reshape(len(imagePath), 64*64*3+1)    \n",
        "\n",
        "    return pixels"
      ],
      "execution_count": 0,
      "outputs": []
    },
    {
      "cell_type": "code",
      "metadata": {
        "id": "1Q3FmIwHkkQf",
        "colab_type": "code",
        "colab": {}
      },
      "source": [
        "hamburger_data = flatten(hamburger_paths, 0)\n",
        "hot_dog_data = flatten(hot_dog_paths, 1)"
      ],
      "execution_count": 0,
      "outputs": []
    },
    {
      "cell_type": "code",
      "metadata": {
        "id": "BJ-dsF5ckkQj",
        "colab_type": "code",
        "outputId": "1a4a68e2-3dfa-4c07-d629-4e3aba0da5fa",
        "colab": {
          "base_uri": "https://localhost:8080/",
          "height": 68
        }
      },
      "source": [
        "print(hamburger_data.shape)\n",
        "print(hot_dog_data.shape)\n",
        "print(hamburger_data[0])"
      ],
      "execution_count": 0,
      "outputs": [
        {
          "output_type": "stream",
          "text": [
            "(98, 12289)\n",
            "(91, 12289)\n",
            "[226. 214. 209. ... 237. 222.   0.]\n"
          ],
          "name": "stdout"
        }
      ]
    },
    {
      "cell_type": "markdown",
      "metadata": {
        "id": "hSZ7cGAfkkQm",
        "colab_type": "text"
      },
      "source": [
        "# Juntamos los datos de las dos clases"
      ]
    },
    {
      "cell_type": "code",
      "metadata": {
        "id": "8SQPTp4jkkQn",
        "colab_type": "code",
        "colab": {}
      },
      "source": [
        "x = []\n",
        "label = []\n",
        "for image in hamburger_data:\n",
        "    x.append(image[:-1])\n",
        "    label.append(image[-1])\n",
        "    \n",
        "for image in hot_dog_data:\n",
        "    x.append(image[:-1])\n",
        "    label.append(image[-1])"
      ],
      "execution_count": 0,
      "outputs": []
    },
    {
      "cell_type": "markdown",
      "metadata": {
        "id": "CwJgBu6fkkQq",
        "colab_type": "text"
      },
      "source": [
        "# Modelo\n",
        "\n",
        "Ahora tenemos un dataset. En este dataset, la x son los training features. Para una imágen, tenemos 64*64*3 pixeles. Cada uno de estos números servirá al modelo para aprender a predecir si es una imagen de un hot dog o de una hamburguesa.\n",
        "\n",
        "Utilizaremos la librería Scikit Learn para implementar el modelo. Scikit Learn es una librería de Python que tiene implementaciones de difeentes técnicas de Machine Learning como regresión linear, random forests, support vector machines y más.\n",
        "\n",
        "En esta primera y simple versión, tu objetivo es implementar un clasificador. Deberás importar la librería, definir el modelo y sus hiperparámetros, y entrenarlo. Te recomiendo revisar los ejemplos en la documentación de Sklear.\n",
        "\n",
        "https://scikit-learn.org/stable/modules/generated/sklearn.svm.SVC.html"
      ]
    },
    {
      "cell_type": "code",
      "metadata": {
        "id": "_FX_C6f1kkQq",
        "colab_type": "code",
        "outputId": "0a280498-7f99-49b4-bbec-d6268abbab1c",
        "colab": {
          "base_uri": "https://localhost:8080/",
          "height": 85
        }
      },
      "source": [
        "# Importa las librerías que te interesen de sklearn\n",
        "from sklearn import svm, metrics\n",
        "\n",
        "# Define el modelo\n",
        "classifier = svm.SVC(gamma=0.001)\n",
        "\n",
        "# Usa el método .fit para entrenar el modelo.\n",
        "classifier.fit(x, label)"
      ],
      "execution_count": 26,
      "outputs": [
        {
          "output_type": "execute_result",
          "data": {
            "text/plain": [
              "SVC(C=1.0, cache_size=200, class_weight=None, coef0=0.0,\n",
              "    decision_function_shape='ovr', degree=3, gamma=0.001, kernel='rbf',\n",
              "    max_iter=-1, probability=False, random_state=None, shrinking=True,\n",
              "    tol=0.001, verbose=False)"
            ]
          },
          "metadata": {
            "tags": []
          },
          "execution_count": 26
        }
      ]
    },
    {
      "cell_type": "markdown",
      "metadata": {
        "id": "Lf4kLtvzkkQu",
        "colab_type": "text"
      },
      "source": [
        "# Métricas\n",
        "\n",
        "Ejecuta las siguientes celdas para observar las métricas del modelo."
      ]
    },
    {
      "cell_type": "code",
      "metadata": {
        "id": "_-V5YjeikkQv",
        "colab_type": "code",
        "colab": {}
      },
      "source": [
        "expected = label\n",
        "predicted = classifier.predict(x)"
      ],
      "execution_count": 0,
      "outputs": []
    },
    {
      "cell_type": "code",
      "metadata": {
        "id": "UQobOlIGkkRB",
        "colab_type": "code",
        "outputId": "e10e9012-a189-4849-e8ad-4666b2ebd311",
        "colab": {
          "base_uri": "https://localhost:8080/",
          "height": 255
        }
      },
      "source": [
        "print(\"Classification report for classifier %s:\\n%s\\n\"\n",
        "      % (classifier, metrics.classification_report(expected, predicted)))"
      ],
      "execution_count": 28,
      "outputs": [
        {
          "output_type": "stream",
          "text": [
            "Classification report for classifier SVC(C=1.0, cache_size=200, class_weight=None, coef0=0.0,\n",
            "    decision_function_shape='ovr', degree=3, gamma=0.001, kernel='rbf',\n",
            "    max_iter=-1, probability=False, random_state=None, shrinking=True,\n",
            "    tol=0.001, verbose=False):\n",
            "              precision    recall  f1-score   support\n",
            "\n",
            "         0.0       1.00      1.00      1.00       142\n",
            "         1.0       1.00      1.00      1.00        93\n",
            "\n",
            "    accuracy                           1.00       235\n",
            "   macro avg       1.00      1.00      1.00       235\n",
            "weighted avg       1.00      1.00      1.00       235\n",
            "\n",
            "\n"
          ],
          "name": "stdout"
        }
      ]
    },
    {
      "cell_type": "code",
      "metadata": {
        "id": "q9GUfybjkkRG",
        "colab_type": "code",
        "colab": {}
      },
      "source": [
        ""
      ],
      "execution_count": 0,
      "outputs": []
    }
  ]
}