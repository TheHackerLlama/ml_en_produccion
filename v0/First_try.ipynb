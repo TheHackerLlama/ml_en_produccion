{
 "cells": [
  {
   "cell_type": "markdown",
   "metadata": {},
   "source": [
    "# Conseguir dataset"
   ]
  },
  {
   "cell_type": "code",
   "execution_count": 24,
   "metadata": {
    "collapsed": false
   },
   "outputs": [
    {
     "name": "stdout",
     "output_type": "stream",
     "text": [
      "Imágenes de hamburguesas:  98\n",
      "Imágenes de hot-dogs:  91\n"
     ]
    }
   ],
   "source": [
    "import glob\n",
    "import  cv2\n",
    "import numpy as np\n",
    "\n",
    "hamburger_paths = glob.glob(\"/Users/osanseviero/Desktop/hot-dog-or-not/v0/downloads/hamburger/*\")\n",
    "hot_dog_paths = glob.glob(\"/Users/osanseviero/Desktop/hot-dog-or-not/v0/downloads/hot-dog/*\")\n",
    "\n",
    "print('Imágenes de hamburguesas: ', len(hamburger_paths))\n",
    "print('Imágenes de hot-dogs: ', len(hot_dog_paths))"
   ]
  },
  {
   "cell_type": "code",
   "execution_count": null,
   "metadata": {
    "collapsed": true
   },
   "outputs": [],
   "source": []
  },
  {
   "cell_type": "markdown",
   "metadata": {},
   "source": [
    "# Flattening y agregando label"
   ]
  },
  {
   "cell_type": "code",
   "execution_count": 63,
   "metadata": {
    "collapsed": false
   },
   "outputs": [],
   "source": [
    "def flatten(imagePath, label):\n",
    "    data = np.array([])\n",
    "    for i in range(len(imagePath)):\n",
    "        resized = cv2.resize(cv2.imread(imagePath[i]), dsize=(64, 64), interpolation=cv2.INTER_CUBIC)\n",
    "    \n",
    "        data = np.append(data, np.append(resized, [label]))\n",
    "    pixels = data.flatten().reshape(len(imagePath), 64*64*3+1)    \n",
    "\n",
    "    return pixels"
   ]
  },
  {
   "cell_type": "code",
   "execution_count": 64,
   "metadata": {
    "collapsed": false
   },
   "outputs": [],
   "source": [
    "hamburger_data = flatten(hamburger_paths, 0)\n",
    "hot_dog_data = flatten(hot_dog_paths, 1)"
   ]
  },
  {
   "cell_type": "code",
   "execution_count": 67,
   "metadata": {
    "collapsed": false
   },
   "outputs": [
    {
     "name": "stdout",
     "output_type": "stream",
     "text": [
      "(98, 12289)\n",
      "(91, 12289)\n",
      "[255. 255. 255. ... 255. 255.   0.]\n"
     ]
    }
   ],
   "source": [
    "print(hamburger_data.shape)\n",
    "print(hot_dog_data.shape)\n",
    "print(hamburger_data[0])"
   ]
  },
  {
   "cell_type": "markdown",
   "metadata": {},
   "source": [
    "# Juntamos los datos de las dos clases"
   ]
  },
  {
   "cell_type": "code",
   "execution_count": 96,
   "metadata": {
    "collapsed": false
   },
   "outputs": [],
   "source": [
    "x = []\n",
    "label = []\n",
    "for image in hamburger_data:\n",
    "    x.append(image[:-1])\n",
    "    label.append(image[-1])\n",
    "    \n",
    "for image in hot_dog_data:\n",
    "    x.append(image[:-1])\n",
    "    label.append(image[-1])"
   ]
  },
  {
   "cell_type": "markdown",
   "metadata": {},
   "source": [
    "# Modelo"
   ]
  },
  {
   "cell_type": "code",
   "execution_count": 103,
   "metadata": {
    "collapsed": false
   },
   "outputs": [
    {
     "data": {
      "text/plain": [
       "SVC(C=1.0, cache_size=200, class_weight=None, coef0=0.0,\n",
       "  decision_function_shape=None, degree=3, gamma=0.001, kernel='rbf',\n",
       "  max_iter=-1, probability=False, random_state=None, shrinking=True,\n",
       "  tol=0.001, verbose=False)"
      ]
     },
     "execution_count": 103,
     "metadata": {},
     "output_type": "execute_result"
    }
   ],
   "source": [
    "from sklearn import svm, metrics\n",
    "\n",
    "classifier = svm.SVC(gamma=0.001)\n",
    "\n",
    "classifier.fit(x, label)"
   ]
  },
  {
   "cell_type": "markdown",
   "metadata": {},
   "source": [
    "# Métricas"
   ]
  },
  {
   "cell_type": "code",
   "execution_count": 101,
   "metadata": {
    "collapsed": false
   },
   "outputs": [],
   "source": [
    "expected = label\n",
    "predicted = classifier.predict(x)"
   ]
  },
  {
   "cell_type": "code",
   "execution_count": 102,
   "metadata": {
    "collapsed": false
   },
   "outputs": [
    {
     "name": "stdout",
     "output_type": "stream",
     "text": [
      "Classification report for classifier SVC(C=1.0, cache_size=200, class_weight=None, coef0=0.0,\n",
      "  decision_function_shape=None, degree=3, gamma=0.001, kernel='rbf',\n",
      "  max_iter=-1, probability=False, random_state=None, shrinking=True,\n",
      "  tol=0.001, verbose=False):\n",
      "             precision    recall  f1-score   support\n",
      "\n",
      "        0.0       1.00      1.00      1.00        98\n",
      "        1.0       1.00      1.00      1.00        91\n",
      "\n",
      "avg / total       1.00      1.00      1.00       189\n",
      "\n",
      "\n"
     ]
    }
   ],
   "source": [
    "print(\"Classification report for classifier %s:\\n%s\\n\"\n",
    "      % (classifier, metrics.classification_report(expected, predicted)))"
   ]
  },
  {
   "cell_type": "code",
   "execution_count": null,
   "metadata": {
    "collapsed": true
   },
   "outputs": [],
   "source": []
  }
 ],
 "metadata": {
  "kernelspec": {
   "display_name": "Python 3",
   "language": "python",
   "name": "python3"
  },
  "language_info": {
   "codemirror_mode": {
    "name": "ipython",
    "version": 3
   },
   "file_extension": ".py",
   "mimetype": "text/x-python",
   "name": "python",
   "nbconvert_exporter": "python",
   "pygments_lexer": "ipython3",
   "version": "3.6.0"
  }
 },
 "nbformat": 4,
 "nbformat_minor": 2
}
